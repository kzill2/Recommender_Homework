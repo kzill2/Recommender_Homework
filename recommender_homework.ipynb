{
 "cells": [
  {
   "cell_type": "code",
   "execution_count": 1,
   "metadata": {
    "collapsed": true
   },
   "outputs": [],
   "source": [
    "import pandas as pd\n",
    "import numpy as np"
   ]
  },
  {
   "cell_type": "code",
   "execution_count": 2,
   "metadata": {
    "collapsed": true
   },
   "outputs": [],
   "source": [
    "#download the class movie reviews from here:\n",
    "#https://docs.google.com/spreadsheets/d/17rCJzmWxqvAu9rkpkgt4ToccIlY4A1Ffuu1W9X3B8Ag/\n",
    "#then read that in as a pandas dataframe"
   ]
  },
  {
   "cell_type": "code",
   "execution_count": 3,
   "metadata": {
    "collapsed": true
   },
   "outputs": [],
   "source": [
    "M = pd.read_csv('Movie Reviews.csv', index_col='Name')"
   ]
  },
  {
   "cell_type": "code",
   "execution_count": 4,
   "metadata": {
    "collapsed": true
   },
   "outputs": [],
   "source": [
    "def pearson(s1, s2):\n",
    "    \"\"\"Take two pd.Series objects and return a pearson correlation.\"\"\"\n",
    "    s1_c = s1 - s1.mean()\n",
    "    s2_c = s2 - s2.mean()\n",
    "    return np.sum(s1_c * s2_c) / np.sqrt(np.sum(s1_c ** 2) * np.sum(s2_c ** 2))"
   ]
  },
  {
   "cell_type": "code",
   "execution_count": 5,
   "metadata": {
    "collapsed": true
   },
   "outputs": [],
   "source": [
    "def get_recs(movie_name, M, num):\n",
    "\n",
    "    import numpy as np\n",
    "    reviews = []\n",
    "    for title in M.columns:\n",
    "        if title == movie_name:\n",
    "            continue\n",
    "        cor = pearson(M[movie_name], M[title])\n",
    "        if np.isnan(cor):\n",
    "            continue\n",
    "        else:\n",
    "            reviews.append((title, cor))\n",
    "    \n",
    "    reviews.sort(key=lambda tup: tup[1], reverse=True)\n",
    "    return reviews[:num]"
   ]
  },
  {
   "cell_type": "markdown",
   "metadata": {},
   "source": [
    "### Question 1:  What movie is most Similar to 'The fault in our stars' (60 pts)\n"
   ]
  },
  {
   "cell_type": "code",
   "execution_count": 6,
   "metadata": {},
   "outputs": [
    {
     "data": {
      "text/plain": [
       "[('Malificent', 0.19685382007557589),\n",
       " ('Interstellar', 0.19096909400891598),\n",
       " ('Divergent', 0.14138905806703553),\n",
       " ('How to Train your Dragon 2', 0.13844260886450729),\n",
       " ('Guardians of the Galaxy', 0.12932884801223818)]"
      ]
     },
     "execution_count": 6,
     "metadata": {},
     "output_type": "execute_result"
    }
   ],
   "source": [
    "# We can see that the movie most similar to 'The Fault in Our Stars' is '\n",
    "# Malificent'. Is it weird that I woke up thinking about the movie \n",
    "# Malificent today?\n",
    "recs = get_recs('The Fault in Our Stars', M, 5)\n",
    "recs"
   ]
  },
  {
   "cell_type": "markdown",
   "metadata": {},
   "source": [
    "### Question 2:  Which movie(s) would you most like to see, based on your classmates experience? (40 pts)"
   ]
  },
  {
   "cell_type": "code",
   "execution_count": 7,
   "metadata": {},
   "outputs": [
    {
     "data": {
      "text/plain": [
       "The Hunger Games: Mockingjay - Part 1    5.0\n",
       "Guardians of the Galaxy                  4.0\n",
       "The Lego Movie                           2.0\n",
       "The Hobbit                               3.0\n",
       "Transformers                             2.0\n",
       "Malificent                               3.0\n",
       "Godzilla                                 5.0\n",
       "Interstellar                             4.0\n",
       "How to Train your Dragon 2               2.0\n",
       "Divergent                                5.0\n",
       "300: Rise of an Empire                   5.0\n",
       "Name: Karla Zillner, dtype: float64"
      ]
     },
     "execution_count": 7,
     "metadata": {},
     "output_type": "execute_result"
    }
   ],
   "source": [
    "# The movies I've seen are those that I've rated: my_ratings\n",
    "my_ratings = M.loc['Karla Zillner'].dropna()\n",
    "my_ratings"
   ]
  },
  {
   "cell_type": "code",
   "execution_count": 8,
   "metadata": {
    "scrolled": false
   },
   "outputs": [
    {
     "data": {
      "text/plain": [
       "300: Rise of an Empire                   5.0\n",
       "Divergent                                5.0\n",
       "Godzilla                                 5.0\n",
       "The Hunger Games: Mockingjay - Part 1    5.0\n",
       "Interstellar                             4.0\n",
       "Guardians of the Galaxy                  4.0\n",
       "Malificent                               3.0\n",
       "The Hobbit                               3.0\n",
       "How to Train your Dragon 2               2.0\n",
       "Transformers                             2.0\n",
       "The Lego Movie                           2.0\n",
       "Name: Karla Zillner, dtype: float64"
      ]
     },
     "execution_count": 8,
     "metadata": {},
     "output_type": "execute_result"
    }
   ],
   "source": [
    "# The movies I've rated sorted according to rating. \n",
    "my_sorted_ratings=my_ratings.sort_values(ascending=False)\n",
    "my_sorted_ratings"
   ]
  },
  {
   "cell_type": "code",
   "execution_count": 9,
   "metadata": {},
   "outputs": [
    {
     "data": {
      "text/plain": [
       "'300: Rise of an Empire'"
      ]
     },
     "execution_count": 9,
     "metadata": {},
     "output_type": "execute_result"
    }
   ],
   "source": [
    "# My favorite movie according to the sorted list of movies I've rated is:\n",
    "my_sorted_ratings.index[0]"
   ]
  },
  {
   "cell_type": "code",
   "execution_count": 10,
   "metadata": {},
   "outputs": [
    {
     "data": {
      "text/plain": [
       "[('Divergent', 0.31506733582377494),\n",
       " ('American Sniper', 0.141848971461246),\n",
       " ('Malificent', 0.12701522786962982),\n",
       " ('Transformers', 0.12264836559060582),\n",
       " ('Godzilla', 0.094653883983967874),\n",
       " ('The Hunger Games: Mockingjay - Part 1', 0.087371232556890013),\n",
       " ('Unbroken', 0.075354667615717727),\n",
       " ('Gone Girl', 0.070297916401539054),\n",
       " ('The Hobbit', 0.053325897788541222),\n",
       " ('How to Train your Dragon 2', 0.037146231979000785),\n",
       " ('Interstellar', -0.0057772421900600763),\n",
       " ('Big Hero 6', -0.011697108075607048),\n",
       " ('The Fault in Our Stars', -0.061294011326189106),\n",
       " ('The Lego Movie', -0.10850183261767435),\n",
       " ('Guardians of the Galaxy', -0.2886063706514535)]"
      ]
     },
     "execution_count": 10,
     "metadata": {},
     "output_type": "execute_result"
    }
   ],
   "source": [
    "# These are the correlations between my favorite movie and all other movies.\n",
    "corrs = get_recs(my_sorted_ratings.index[0], M, 16)\n",
    "corrs"
   ]
  },
  {
   "cell_type": "code",
   "execution_count": 11,
   "metadata": {
    "scrolled": true
   },
   "outputs": [
    {
     "name": "stdout",
     "output_type": "stream",
     "text": [
      "('American Sniper', 0.141848971461246)\n",
      "('Unbroken', 0.075354667615717727)\n",
      "('Gone Girl', 0.070297916401539054)\n"
     ]
    }
   ],
   "source": [
    "# Recommendations for me based on my favorite movie. \n",
    "# Notice that I used brute force to weed out the movies I've watched.\n",
    "# There is probably some easier set difference computation that I could use.\n",
    "\n",
    "# I will definitely watch American Sniper.\n",
    "\n",
    "my_rated_movies=my_ratings.index[0:]\n",
    "for n in range(my_rated_movies.shape[0]):\n",
    "    if corrs[n][0] in my_rated_movies:\n",
    "        continue\n",
    "    if (corrs[n][1] < 0):\n",
    "        continue\n",
    "    else:\n",
    "        print(corrs[n])"
   ]
  },
  {
   "cell_type": "markdown",
   "metadata": {},
   "source": [
    "### Question 3: Bonus Question...  For all the movies you haven't seen, can you predict how you'd rate them using your the class reviews? (10 pts)"
   ]
  },
  {
   "cell_type": "code",
   "execution_count": 12,
   "metadata": {},
   "outputs": [
    {
     "data": {
      "text/plain": [
       "{'American Sniper',\n",
       " 'Big Hero 6',\n",
       " 'Gone Girl',\n",
       " 'The Fault in Our Stars',\n",
       " 'Unbroken'}"
      ]
     },
     "execution_count": 12,
     "metadata": {},
     "output_type": "execute_result"
    }
   ],
   "source": [
    "# Here are the movies I have not rated and thus have not watched. \n",
    "# Notice that here the set difference worked out nicely. \n",
    "not_rated = set(M.columns) - set(my_rated_movies)\n",
    "not_rated"
   ]
  },
  {
   "cell_type": "code",
   "execution_count": 13,
   "metadata": {
    "scrolled": true
   },
   "outputs": [
    {
     "data": {
      "text/plain": [
       "Index(['Aarti Jaiswal', 'Aditya Dharmasagar', 'Adrian Cavallaris',\n",
       "       'Ahmed Muheebuddin', 'Aishwarya reddy', 'Akhilesh', 'Andrew Webb',\n",
       "       'Anirudh', 'Anirudh Thota', 'anurag',\n",
       "       ...\n",
       "       'Mark Dang', 'Jensen Hou', 'Moses Stanley', 'Vibhor Sharma',\n",
       "       'Jeremy Embalabala', 'Jason Schenck', 'Jason Burrell', 'Karla Zillner',\n",
       "       'Eric Maxwell', 'Bertina Nguyen'],\n",
       "      dtype='object', name='Name', length=130)"
      ]
     },
     "execution_count": 13,
     "metadata": {},
     "output_type": "execute_result"
    }
   ],
   "source": [
    "# Let's see what happens when I compare myself to the other students. \n",
    "# Here is the list of students. \n",
    "M.index[0:]"
   ]
  },
  {
   "cell_type": "code",
   "execution_count": 14,
   "metadata": {
    "collapsed": true
   },
   "outputs": [],
   "source": [
    "# To make it easier, lets create a new matrix by transposing M. \n",
    "N = M.transpose()"
   ]
  },
  {
   "cell_type": "code",
   "execution_count": 15,
   "metadata": {},
   "outputs": [
    {
     "name": "stderr",
     "output_type": "stream",
     "text": [
      "C:\\Users\\zillnerk\\AppData\\Local\\Continuum\\anaconda3\\lib\\site-packages\\ipykernel_launcher.py:5: RuntimeWarning: invalid value encountered in double_scalars\n",
      "  \"\"\"\n"
     ]
    }
   ],
   "source": [
    "# This is a modified version of Mike's get_recs(). \n",
    "# It finds all the correlations between myself and the other classmates. \n",
    "corrs = []\n",
    "for person in N.columns:\n",
    "    if person == 'Karla Zillner':\n",
    "        continue\n",
    "    corr = pearson(N['Karla Zillner'],N[person])\n",
    "    if np.isnan(corr):\n",
    "        continue    \n",
    "    corrs.append((person,corr))\n",
    "corrs.sort(key=lambda tup: tup[1], reverse=True)"
   ]
  },
  {
   "cell_type": "code",
   "execution_count": 16,
   "metadata": {},
   "outputs": [
    {
     "data": {
      "text/plain": [
       "[('veerendra battula', 0.50013049761701556),\n",
       " ('Jonathan Doll', 0.47014477211853867),\n",
       " ('Adrian Cavallaris', 0.46726642516653394),\n",
       " ('Susan Huang', 0.44474958999666075),\n",
       " ('Gaurav Khandave', 0.44158207820125872),\n",
       " ('anurag', 0.44052107185521777),\n",
       " ('ugesh reddy challa', 0.41420562258362703),\n",
       " ('Jared Knowles', 0.3998834328985888),\n",
       " ('Fred Young', 0.3704169839009317),\n",
       " ('Daniel Lee', 0.363480236213583),\n",
       " ('David Reyling', 0.35484609468860007),\n",
       " ('Gaurav Karale', 0.35323992888558414),\n",
       " ('Michael Cooper', 0.34767674768255769),\n",
       " ('Jason Burrell', 0.34767674768255769),\n",
       " ('Jeremy Embalabala', 0.34726602486028413)]"
      ]
     },
     "execution_count": 16,
     "metadata": {},
     "output_type": "execute_result"
    }
   ],
   "source": [
    "# It looks as though Veerendra Battula and I have similar taste in movies. \n",
    "corrs[:15]"
   ]
  },
  {
   "cell_type": "code",
   "execution_count": 17,
   "metadata": {},
   "outputs": [
    {
     "data": {
      "text/plain": [
       "{'American Sniper',\n",
       " 'Big Hero 6',\n",
       " 'Gone Girl',\n",
       " 'The Fault in Our Stars',\n",
       " 'Unbroken'}"
      ]
     },
     "execution_count": 17,
     "metadata": {},
     "output_type": "execute_result"
    }
   ],
   "source": [
    "# Let's see how I might rate the movies I have not watched by using the \n",
    "# above information.\n",
    "\n",
    "# Recall that the movies I have not rated are:\n",
    "not_rated"
   ]
  },
  {
   "cell_type": "code",
   "execution_count": 18,
   "metadata": {},
   "outputs": [
    {
     "name": "stdout",
     "output_type": "stream",
     "text": [
      "Average Score for The Fault in Our Stars is 3.0\n",
      "Average Score for American Sniper is 3.5\n",
      "Average Score for Gone Girl is 4.5\n",
      "Average Score for Unbroken is 5.0\n",
      "Average Score for Big Hero 6 is 4.5\n"
     ]
    }
   ],
   "source": [
    "# Let's see how people with my similar taste in movies would have rated \n",
    "# the movies I haven't watched. \n",
    "for movie in not_rated:\n",
    "    sum_ratings = 0\n",
    "    count = 0\n",
    "    for person in corrs[:10]:\n",
    "        if np.isnan(N[person[0]][movie]):\n",
    "            continue\n",
    "        else:\n",
    "            sum_ratings = sum_ratings + N[person[0]][movie]\n",
    "            count = count + 1\n",
    "    if count > 0:\n",
    "        print('Average Score for',movie, 'is', sum_ratings/count)"
   ]
  },
  {
   "cell_type": "code",
   "execution_count": 19,
   "metadata": {},
   "outputs": [
    {
     "name": "stdout",
     "output_type": "stream",
     "text": [
      "The Fault in Our Stars is most like Malificent\n",
      "I might rate The Fault in Our Stars a 3.0\n",
      "\n",
      "American Sniper is most like The Lego Movie\n",
      "I might rate American Sniper a 2.0\n",
      "\n",
      "Gone Girl is most like How to Train your Dragon 2\n",
      "I might rate Gone Girl a 2.0\n",
      "\n",
      "Unbroken is most like Divergent\n",
      "I might rate Unbroken a 5.0\n",
      "\n",
      "Big Hero 6 is most like How to Train your Dragon 2\n",
      "I might rate Big Hero 6 a 2.0\n",
      "\n"
     ]
    }
   ],
   "source": [
    "# We can also see which of those movies I have not yet seen are most like \n",
    "# the ones I have seen to determine how I would rate those I haven't seen. \n",
    "# So based on my ratings and similarities between movies produced by \n",
    "# ge_recs():\n",
    "for movie in not_rated:\n",
    "    recs = get_recs(movie, M, 5)\n",
    "    rec = recs[0][0]\n",
    "    for r in range(4):\n",
    "        if rec in not_rated:\n",
    "            rec = recs[r][0]\n",
    "    print (movie,'is most like',rec)\n",
    "    print ('I might rate', movie, 'a', M[rec]['Karla Zillner'])\n",
    "    print ('')"
   ]
  },
  {
   "cell_type": "code",
   "execution_count": 20,
   "metadata": {
    "collapsed": true
   },
   "outputs": [],
   "source": [
    "# I believe the first solution might be more accurate. \n",
    "# I will have to test these predictions by having a movie binge."
   ]
  },
  {
   "cell_type": "code",
   "execution_count": null,
   "metadata": {
    "collapsed": true
   },
   "outputs": [],
   "source": []
  }
 ],
 "metadata": {
  "kernelspec": {
   "display_name": "Python 3",
   "language": "python",
   "name": "python3"
  },
  "language_info": {
   "codemirror_mode": {
    "name": "ipython",
    "version": 3
   },
   "file_extension": ".py",
   "mimetype": "text/x-python",
   "name": "python",
   "nbconvert_exporter": "python",
   "pygments_lexer": "ipython3",
   "version": "3.6.2"
  }
 },
 "nbformat": 4,
 "nbformat_minor": 1
}
